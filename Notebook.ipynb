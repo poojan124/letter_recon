{
 "cells": [
  {
   "cell_type": "markdown",
   "metadata": {},
   "source": [
    "### Data Reading and Stroing into pandas DataFrame "
   ]
  },
  {
   "cell_type": "code",
   "execution_count": 21,
   "metadata": {},
   "outputs": [],
   "source": [
    "# PIL short for pillow library is imaging library which allow us to create image form vector of pixal values either in grayscale or in RGB\n",
    "from PIL import Image\n",
    "import numpy as np\n",
    "import pandas as pd\n",
    "from keras.models import model_from_json"
   ]
  },
  {
   "cell_type": "code",
   "execution_count": 2,
   "metadata": {},
   "outputs": [],
   "source": [
    "train_data = pd.read_csv('emnist-balanced-train.csv',header=None,names=list(range(0,(28*28)+1)))\n",
    "test_data = pd.read_csv('emnist-balanced-test.csv',header=None,names=list(range(0,(28*28)+1)))"
   ]
  },
  {
   "cell_type": "code",
   "execution_count": 3,
   "metadata": {},
   "outputs": [
    {
     "data": {
      "text/html": [
       "<div>\n",
       "<style>\n",
       "    .dataframe thead tr:only-child th {\n",
       "        text-align: right;\n",
       "    }\n",
       "\n",
       "    .dataframe thead th {\n",
       "        text-align: left;\n",
       "    }\n",
       "\n",
       "    .dataframe tbody tr th {\n",
       "        vertical-align: top;\n",
       "    }\n",
       "</style>\n",
       "<table border=\"1\" class=\"dataframe\">\n",
       "  <thead>\n",
       "    <tr style=\"text-align: right;\">\n",
       "      <th></th>\n",
       "      <th>0</th>\n",
       "      <th>1</th>\n",
       "      <th>2</th>\n",
       "      <th>3</th>\n",
       "      <th>4</th>\n",
       "      <th>5</th>\n",
       "      <th>6</th>\n",
       "      <th>7</th>\n",
       "      <th>8</th>\n",
       "      <th>9</th>\n",
       "      <th>...</th>\n",
       "      <th>775</th>\n",
       "      <th>776</th>\n",
       "      <th>777</th>\n",
       "      <th>778</th>\n",
       "      <th>779</th>\n",
       "      <th>780</th>\n",
       "      <th>781</th>\n",
       "      <th>782</th>\n",
       "      <th>783</th>\n",
       "      <th>784</th>\n",
       "    </tr>\n",
       "  </thead>\n",
       "  <tbody>\n",
       "    <tr>\n",
       "      <th>0</th>\n",
       "      <td>45</td>\n",
       "      <td>0</td>\n",
       "      <td>0</td>\n",
       "      <td>0</td>\n",
       "      <td>0</td>\n",
       "      <td>0</td>\n",
       "      <td>0</td>\n",
       "      <td>0</td>\n",
       "      <td>0</td>\n",
       "      <td>0</td>\n",
       "      <td>...</td>\n",
       "      <td>0</td>\n",
       "      <td>0</td>\n",
       "      <td>0</td>\n",
       "      <td>0</td>\n",
       "      <td>0</td>\n",
       "      <td>0</td>\n",
       "      <td>0</td>\n",
       "      <td>0</td>\n",
       "      <td>0</td>\n",
       "      <td>0</td>\n",
       "    </tr>\n",
       "    <tr>\n",
       "      <th>1</th>\n",
       "      <td>36</td>\n",
       "      <td>0</td>\n",
       "      <td>0</td>\n",
       "      <td>0</td>\n",
       "      <td>0</td>\n",
       "      <td>0</td>\n",
       "      <td>0</td>\n",
       "      <td>0</td>\n",
       "      <td>0</td>\n",
       "      <td>0</td>\n",
       "      <td>...</td>\n",
       "      <td>0</td>\n",
       "      <td>0</td>\n",
       "      <td>0</td>\n",
       "      <td>0</td>\n",
       "      <td>0</td>\n",
       "      <td>0</td>\n",
       "      <td>0</td>\n",
       "      <td>0</td>\n",
       "      <td>0</td>\n",
       "      <td>0</td>\n",
       "    </tr>\n",
       "    <tr>\n",
       "      <th>2</th>\n",
       "      <td>43</td>\n",
       "      <td>0</td>\n",
       "      <td>0</td>\n",
       "      <td>0</td>\n",
       "      <td>0</td>\n",
       "      <td>0</td>\n",
       "      <td>0</td>\n",
       "      <td>0</td>\n",
       "      <td>0</td>\n",
       "      <td>0</td>\n",
       "      <td>...</td>\n",
       "      <td>0</td>\n",
       "      <td>0</td>\n",
       "      <td>0</td>\n",
       "      <td>0</td>\n",
       "      <td>0</td>\n",
       "      <td>0</td>\n",
       "      <td>0</td>\n",
       "      <td>0</td>\n",
       "      <td>0</td>\n",
       "      <td>0</td>\n",
       "    </tr>\n",
       "    <tr>\n",
       "      <th>3</th>\n",
       "      <td>15</td>\n",
       "      <td>0</td>\n",
       "      <td>0</td>\n",
       "      <td>0</td>\n",
       "      <td>0</td>\n",
       "      <td>0</td>\n",
       "      <td>0</td>\n",
       "      <td>0</td>\n",
       "      <td>0</td>\n",
       "      <td>0</td>\n",
       "      <td>...</td>\n",
       "      <td>0</td>\n",
       "      <td>0</td>\n",
       "      <td>0</td>\n",
       "      <td>0</td>\n",
       "      <td>0</td>\n",
       "      <td>0</td>\n",
       "      <td>0</td>\n",
       "      <td>0</td>\n",
       "      <td>0</td>\n",
       "      <td>0</td>\n",
       "    </tr>\n",
       "    <tr>\n",
       "      <th>4</th>\n",
       "      <td>4</td>\n",
       "      <td>0</td>\n",
       "      <td>0</td>\n",
       "      <td>0</td>\n",
       "      <td>0</td>\n",
       "      <td>0</td>\n",
       "      <td>0</td>\n",
       "      <td>0</td>\n",
       "      <td>0</td>\n",
       "      <td>0</td>\n",
       "      <td>...</td>\n",
       "      <td>0</td>\n",
       "      <td>0</td>\n",
       "      <td>0</td>\n",
       "      <td>0</td>\n",
       "      <td>0</td>\n",
       "      <td>0</td>\n",
       "      <td>0</td>\n",
       "      <td>0</td>\n",
       "      <td>0</td>\n",
       "      <td>0</td>\n",
       "    </tr>\n",
       "  </tbody>\n",
       "</table>\n",
       "<p>5 rows × 785 columns</p>\n",
       "</div>"
      ],
      "text/plain": [
       "   0    1    2    3    4    5    6    7    8    9   ...   775  776  777  778  \\\n",
       "0   45    0    0    0    0    0    0    0    0    0 ...     0    0    0    0   \n",
       "1   36    0    0    0    0    0    0    0    0    0 ...     0    0    0    0   \n",
       "2   43    0    0    0    0    0    0    0    0    0 ...     0    0    0    0   \n",
       "3   15    0    0    0    0    0    0    0    0    0 ...     0    0    0    0   \n",
       "4    4    0    0    0    0    0    0    0    0    0 ...     0    0    0    0   \n",
       "\n",
       "   779  780  781  782  783  784  \n",
       "0    0    0    0    0    0    0  \n",
       "1    0    0    0    0    0    0  \n",
       "2    0    0    0    0    0    0  \n",
       "3    0    0    0    0    0    0  \n",
       "4    0    0    0    0    0    0  \n",
       "\n",
       "[5 rows x 785 columns]"
      ]
     },
     "execution_count": 3,
     "metadata": {},
     "output_type": "execute_result"
    }
   ],
   "source": [
    "train_data.head()"
   ]
  },
  {
   "cell_type": "code",
   "execution_count": 4,
   "metadata": {},
   "outputs": [],
   "source": [
    "mapping = [0]*47\n",
    "f_ = open(\"emnist-balanced-mapping.txt\",'r')\n",
    "for line in f_:\n",
    "    a,b=line.split()\n",
    "    mapping[int(a)]=chr(int(b))"
   ]
  },
  {
   "cell_type": "code",
   "execution_count": 5,
   "metadata": {},
   "outputs": [],
   "source": [
    "ytrain = train_data[0]"
   ]
  },
  {
   "cell_type": "code",
   "execution_count": 6,
   "metadata": {},
   "outputs": [],
   "source": [
    "xtrain = train_data.drop([0],axis=1)"
   ]
  },
  {
   "cell_type": "code",
   "execution_count": 7,
   "metadata": {},
   "outputs": [],
   "source": [
    "ytest = test_data[0]"
   ]
  },
  {
   "cell_type": "code",
   "execution_count": 8,
   "metadata": {},
   "outputs": [],
   "source": [
    "xtest = test_data.drop([0],axis=1)"
   ]
  },
  {
   "cell_type": "code",
   "execution_count": 9,
   "metadata": {},
   "outputs": [
    {
     "data": {
      "text/plain": [
       "((18800, 784), (112800, 784))"
      ]
     },
     "execution_count": 9,
     "metadata": {},
     "output_type": "execute_result"
    }
   ],
   "source": [
    "xtest.shape,xtrain.shape"
   ]
  },
  {
   "cell_type": "code",
   "execution_count": 10,
   "metadata": {},
   "outputs": [
    {
     "data": {
      "text/html": [
       "<div>\n",
       "<style>\n",
       "    .dataframe thead tr:only-child th {\n",
       "        text-align: right;\n",
       "    }\n",
       "\n",
       "    .dataframe thead th {\n",
       "        text-align: left;\n",
       "    }\n",
       "\n",
       "    .dataframe tbody tr th {\n",
       "        vertical-align: top;\n",
       "    }\n",
       "</style>\n",
       "<table border=\"1\" class=\"dataframe\">\n",
       "  <thead>\n",
       "    <tr style=\"text-align: right;\">\n",
       "      <th></th>\n",
       "      <th>1</th>\n",
       "      <th>2</th>\n",
       "      <th>3</th>\n",
       "      <th>4</th>\n",
       "      <th>5</th>\n",
       "      <th>6</th>\n",
       "      <th>7</th>\n",
       "      <th>8</th>\n",
       "      <th>9</th>\n",
       "      <th>10</th>\n",
       "      <th>...</th>\n",
       "      <th>775</th>\n",
       "      <th>776</th>\n",
       "      <th>777</th>\n",
       "      <th>778</th>\n",
       "      <th>779</th>\n",
       "      <th>780</th>\n",
       "      <th>781</th>\n",
       "      <th>782</th>\n",
       "      <th>783</th>\n",
       "      <th>784</th>\n",
       "    </tr>\n",
       "  </thead>\n",
       "  <tbody>\n",
       "    <tr>\n",
       "      <th>0</th>\n",
       "      <td>0</td>\n",
       "      <td>0</td>\n",
       "      <td>0</td>\n",
       "      <td>0</td>\n",
       "      <td>0</td>\n",
       "      <td>0</td>\n",
       "      <td>0</td>\n",
       "      <td>0</td>\n",
       "      <td>0</td>\n",
       "      <td>0</td>\n",
       "      <td>...</td>\n",
       "      <td>0</td>\n",
       "      <td>0</td>\n",
       "      <td>0</td>\n",
       "      <td>0</td>\n",
       "      <td>0</td>\n",
       "      <td>0</td>\n",
       "      <td>0</td>\n",
       "      <td>0</td>\n",
       "      <td>0</td>\n",
       "      <td>0</td>\n",
       "    </tr>\n",
       "    <tr>\n",
       "      <th>1</th>\n",
       "      <td>0</td>\n",
       "      <td>0</td>\n",
       "      <td>0</td>\n",
       "      <td>0</td>\n",
       "      <td>0</td>\n",
       "      <td>0</td>\n",
       "      <td>0</td>\n",
       "      <td>0</td>\n",
       "      <td>0</td>\n",
       "      <td>0</td>\n",
       "      <td>...</td>\n",
       "      <td>0</td>\n",
       "      <td>0</td>\n",
       "      <td>0</td>\n",
       "      <td>0</td>\n",
       "      <td>0</td>\n",
       "      <td>0</td>\n",
       "      <td>0</td>\n",
       "      <td>0</td>\n",
       "      <td>0</td>\n",
       "      <td>0</td>\n",
       "    </tr>\n",
       "    <tr>\n",
       "      <th>2</th>\n",
       "      <td>0</td>\n",
       "      <td>0</td>\n",
       "      <td>0</td>\n",
       "      <td>0</td>\n",
       "      <td>0</td>\n",
       "      <td>0</td>\n",
       "      <td>0</td>\n",
       "      <td>0</td>\n",
       "      <td>0</td>\n",
       "      <td>0</td>\n",
       "      <td>...</td>\n",
       "      <td>0</td>\n",
       "      <td>0</td>\n",
       "      <td>0</td>\n",
       "      <td>0</td>\n",
       "      <td>0</td>\n",
       "      <td>0</td>\n",
       "      <td>0</td>\n",
       "      <td>0</td>\n",
       "      <td>0</td>\n",
       "      <td>0</td>\n",
       "    </tr>\n",
       "    <tr>\n",
       "      <th>3</th>\n",
       "      <td>0</td>\n",
       "      <td>0</td>\n",
       "      <td>0</td>\n",
       "      <td>0</td>\n",
       "      <td>0</td>\n",
       "      <td>0</td>\n",
       "      <td>0</td>\n",
       "      <td>0</td>\n",
       "      <td>0</td>\n",
       "      <td>0</td>\n",
       "      <td>...</td>\n",
       "      <td>0</td>\n",
       "      <td>0</td>\n",
       "      <td>0</td>\n",
       "      <td>0</td>\n",
       "      <td>0</td>\n",
       "      <td>0</td>\n",
       "      <td>0</td>\n",
       "      <td>0</td>\n",
       "      <td>0</td>\n",
       "      <td>0</td>\n",
       "    </tr>\n",
       "    <tr>\n",
       "      <th>4</th>\n",
       "      <td>0</td>\n",
       "      <td>0</td>\n",
       "      <td>0</td>\n",
       "      <td>0</td>\n",
       "      <td>0</td>\n",
       "      <td>0</td>\n",
       "      <td>0</td>\n",
       "      <td>0</td>\n",
       "      <td>0</td>\n",
       "      <td>0</td>\n",
       "      <td>...</td>\n",
       "      <td>0</td>\n",
       "      <td>0</td>\n",
       "      <td>0</td>\n",
       "      <td>0</td>\n",
       "      <td>0</td>\n",
       "      <td>0</td>\n",
       "      <td>0</td>\n",
       "      <td>0</td>\n",
       "      <td>0</td>\n",
       "      <td>0</td>\n",
       "    </tr>\n",
       "  </tbody>\n",
       "</table>\n",
       "<p>5 rows × 784 columns</p>\n",
       "</div>"
      ],
      "text/plain": [
       "   1    2    3    4    5    6    7    8    9    10  ...   775  776  777  778  \\\n",
       "0    0    0    0    0    0    0    0    0    0    0 ...     0    0    0    0   \n",
       "1    0    0    0    0    0    0    0    0    0    0 ...     0    0    0    0   \n",
       "2    0    0    0    0    0    0    0    0    0    0 ...     0    0    0    0   \n",
       "3    0    0    0    0    0    0    0    0    0    0 ...     0    0    0    0   \n",
       "4    0    0    0    0    0    0    0    0    0    0 ...     0    0    0    0   \n",
       "\n",
       "   779  780  781  782  783  784  \n",
       "0    0    0    0    0    0    0  \n",
       "1    0    0    0    0    0    0  \n",
       "2    0    0    0    0    0    0  \n",
       "3    0    0    0    0    0    0  \n",
       "4    0    0    0    0    0    0  \n",
       "\n",
       "[5 rows x 784 columns]"
      ]
     },
     "execution_count": 10,
     "metadata": {},
     "output_type": "execute_result"
    }
   ],
   "source": [
    "xtrain.head()"
   ]
  },
  {
   "cell_type": "markdown",
   "metadata": {},
   "source": [
    "### Sample Image from our Data"
   ]
  },
  {
   "cell_type": "code",
   "execution_count": 11,
   "metadata": {},
   "outputs": [
    {
     "data": {
      "text/plain": [
       "'Q'"
      ]
     },
     "execution_count": 11,
     "metadata": {},
     "output_type": "execute_result"
    }
   ],
   "source": [
    "idx = 6\n",
    "im = Image.fromarray(((xtrain.loc[idx].values.reshape(28,28))).astype('uint8').T)\n",
    "mapping[ytrain[idx]]"
   ]
  },
  {
   "cell_type": "code",
   "execution_count": 12,
   "metadata": {},
   "outputs": [
    {
     "data": {
      "image/png": "[encoded data removed]",
      "text/plain": [
       "<PIL.Image.Image image mode=L size=150x150 at 0xF24F69FA90>"
      ]
     },
     "execution_count": 12,
     "metadata": {},
     "output_type": "execute_result"
    }
   ],
   "source": [
    "im.resize((150,150))"
   ]
  },
  {
   "cell_type": "markdown",
   "metadata": {},
   "source": [
    "### Model Training"
   ]
  },
  {
   "cell_type": "code",
   "execution_count": 13,
   "metadata": {},
   "outputs": [
    {
     "name": "stderr",
     "output_type": "stream",
     "text": [
      "Using TensorFlow backend.\n"
     ]
    },
    {
     "name": "stdout",
     "output_type": "stream",
     "text": [
      "ytrain: (112800, 47)\n",
      "ytest: (18800, 47)\n"
     ]
    }
   ],
   "source": [
    "from keras.layers import Input, Dense, Dropout\n",
    "from keras.models import Model,Sequential\n",
    "from keras.utils import np_utils\n",
    "num_classes = 47\n",
    "ytrain_one_hot = np_utils.to_categorical(ytrain, num_classes)\n",
    "ytest_one_hot = np_utils.to_categorical(ytest, num_classes)\n",
    "print (\"ytrain:\", ytrain_one_hot.shape)\n",
    "print (\"ytest:\", ytest_one_hot.shape)"
   ]
  },
  {
   "cell_type": "code",
   "execution_count": 14,
   "metadata": {},
   "outputs": [],
   "source": [
    "# Normalizing data into scale of 0-1\n",
    "xtrain/=255\n",
    "xtest/=255"
   ]
  },
  {
   "cell_type": "code",
   "execution_count": 15,
   "metadata": {},
   "outputs": [],
   "source": [
    "model = Sequential()\n",
    "model.add(Dense(784, input_dim=784, kernel_initializer='normal', activation='relu'))\n",
    "model.add(Dense(1024, kernel_initializer='normal', activation='relu'))\n",
    "model.add(Dropout(0.2))\n",
    "model.add(Dense(num_classes, kernel_initializer='normal', activation='softmax'))"
   ]
  },
  {
   "cell_type": "code",
   "execution_count": 16,
   "metadata": {},
   "outputs": [
    {
     "data": {
      "text/plain": [
       "array([ 0.,  0.,  0.,  0.,  0.,  0.,  0.,  0.,  0.,  0.,  0.,  0.,  0.,\n",
       "        0.,  0.,  0.,  0.,  0.,  0.,  0.,  0.,  0.,  0.,  0.,  0.,  0.,\n",
       "        0.,  0.,  0.,  0.,  0.,  0.,  0.,  0.,  0.,  0.,  0.,  0.,  0.,\n",
       "        0.,  0.,  0.,  0.,  0.,  0.,  1.,  0.])"
      ]
     },
     "execution_count": 16,
     "metadata": {},
     "output_type": "execute_result"
    }
   ],
   "source": [
    "ytrain_one_hot[0]"
   ]
  },
  {
   "cell_type": "code",
   "execution_count": 17,
   "metadata": {},
   "outputs": [
    {
     "name": "stdout",
     "output_type": "stream",
     "text": [
      "Train on 101520 samples, validate on 11280 samples\n",
      "Epoch 1/10\n",
      "30s - loss: 1.0849 - acc: 0.6865 - val_loss: 0.6527 - val_acc: 0.7905\n",
      "Epoch 2/10\n",
      "32s - loss: 0.5793 - acc: 0.8120 - val_loss: 0.5268 - val_acc: 0.8263\n",
      "Epoch 3/10\n",
      "31s - loss: 0.4624 - acc: 0.8441 - val_loss: 0.4783 - val_acc: 0.8382\n",
      "Epoch 4/10\n",
      "31s - loss: 0.3973 - acc: 0.8623 - val_loss: 0.4687 - val_acc: 0.8380\n",
      "Epoch 5/10\n",
      "31s - loss: 0.3514 - acc: 0.8748 - val_loss: 0.4560 - val_acc: 0.8427\n",
      "Epoch 6/10\n",
      "32s - loss: 0.3146 - acc: 0.8852 - val_loss: 0.4525 - val_acc: 0.8440\n",
      "Epoch 7/10\n",
      "31s - loss: 0.2875 - acc: 0.8939 - val_loss: 0.4471 - val_acc: 0.8426\n",
      "Epoch 8/10\n",
      "32s - loss: 0.2605 - acc: 0.9024 - val_loss: 0.4435 - val_acc: 0.8477\n",
      "Epoch 9/10\n",
      "33s - loss: 0.2407 - acc: 0.9080 - val_loss: 0.4494 - val_acc: 0.8503\n",
      "Epoch 10/10\n",
      "31s - loss: 0.2199 - acc: 0.9157 - val_loss: 0.4589 - val_acc: 0.8493\n"
     ]
    },
    {
     "data": {
      "text/plain": [
       "<keras.callbacks.History at 0xf286282be0>"
      ]
     },
     "execution_count": 17,
     "metadata": {},
     "output_type": "execute_result"
    }
   ],
   "source": [
    "\n",
    "model.compile(loss='categorical_crossentropy', # using the cross-entropy loss function\n",
    "              optimizer='adam', # using the Adam optimiser\n",
    "              metrics=['accuracy']) # reporting the accuracy\n",
    "\n",
    "model.fit(xtrain.values, ytrain_one_hot, # Train the model using the training set...\n",
    "          batch_size=512, epochs=10,\n",
    "          verbose=2, validation_split=0.1) # ...holding out 10% of the data for validation"
   ]
  },
  {
   "cell_type": "markdown",
   "metadata": {},
   "source": [
    "### Saving Model"
   ]
  },
  {
   "cell_type": "code",
   "execution_count": 18,
   "metadata": {},
   "outputs": [],
   "source": [
    "model_json = model.to_json()\n",
    "with open(\"model.json\", \"w\") as json_file:\n",
    "    json_file.write(model_json)"
   ]
  },
  {
   "cell_type": "code",
   "execution_count": 19,
   "metadata": {},
   "outputs": [
    {
     "name": "stdout",
     "output_type": "stream",
     "text": [
      "Saved model to disk\n"
     ]
    }
   ],
   "source": [
    "model.save_weights(\"model.h5\")\n",
    "print(\"Saved model to disk\")"
   ]
  },
  {
   "cell_type": "code",
   "execution_count": 22,
   "metadata": {},
   "outputs": [
    {
     "name": "stdout",
     "output_type": "stream",
     "text": [
      "Loaded model from disk\n"
     ]
    }
   ],
   "source": [
    "json_file = open('model.json', 'r')\n",
    "loaded_model_json = json_file.read()\n",
    "json_file.close()\n",
    "loaded_model = model_from_json(loaded_model_json)\n",
    "# load weights into new model\n",
    "loaded_model.load_weights(\"model.h5\")\n",
    "print(\"Loaded model from disk\")"
   ]
  },
  {
   "cell_type": "code",
   "execution_count": 28,
   "metadata": {},
   "outputs": [
    {
     "data": {
      "text/plain": [
       "[array([[ 0.00665633, -0.1246977 , -0.01244546, ..., -0.06302496,\n",
       "         -0.01807048, -0.01204217],\n",
       "        [ 0.06278656, -0.07354856, -0.04588665, ...,  0.07691882,\n",
       "          0.04339374,  0.01955363],\n",
       "        [ 0.0654152 , -0.03883999, -0.00950611, ..., -0.01039005,\n",
       "         -0.01985106,  0.02104146],\n",
       "        ..., \n",
       "        [-0.00192827, -0.00629572, -0.03107245, ...,  0.09406602,\n",
       "         -0.00274892,  0.03769166],\n",
       "        [ 0.05312697, -0.0250899 , -0.0961483 , ..., -0.05624101,\n",
       "         -0.0180363 ,  0.08697018],\n",
       "        [ 0.00428581,  0.00204986,  0.00064777, ...,  0.00346544,\n",
       "          0.00515051, -0.00435385]], dtype=float32),\n",
       " array([  8.04912765e-03,  -2.67244130e-02,  -1.44839864e-02,\n",
       "          1.61936227e-02,  -1.26630999e-02,   2.78623644e-02,\n",
       "          1.31722717e-02,  -6.82029268e-03,   2.04818305e-02,\n",
       "          6.36105798e-03,  -3.74803320e-02,   1.94860790e-02,\n",
       "          2.62156297e-02,   3.75085771e-02,   7.82445539e-03,\n",
       "         -2.57295575e-02,  -3.68237197e-02,  -4.25413297e-03,\n",
       "          1.78957228e-02,  -1.97955165e-02,   2.47136690e-02,\n",
       "         -2.59384289e-02,   2.17720009e-02,   7.62545131e-03,\n",
       "         -1.90468710e-02,   6.24373276e-03,  -3.31967436e-02,\n",
       "          3.39343175e-02,  -1.78983696e-02,   3.75653384e-03,\n",
       "          3.86138214e-03,   3.94043373e-03,  -9.93065722e-03,\n",
       "          5.22866659e-02,   3.17131504e-02,   1.85836051e-02,\n",
       "         -1.33990766e-02,  -1.33773554e-02,   6.90005394e-03,\n",
       "          4.85199168e-02,  -2.11797860e-02,  -3.22937407e-03,\n",
       "          3.66349425e-03,   5.12026250e-02,  -5.69726303e-02,\n",
       "         -3.13684950e-03,   2.21152510e-02,   9.76224989e-02,\n",
       "          2.60455087e-02,  -5.55946538e-03,   2.10965183e-02,\n",
       "         -6.32316060e-03,   1.08818123e-02,   4.21533734e-02,\n",
       "          5.52837271e-03,  -3.60942855e-02,  -1.97013412e-02,\n",
       "         -3.91244888e-02,  -1.82698630e-02,   5.21129072e-02,\n",
       "          9.75622516e-03,  -1.10685574e-02,   4.04883511e-02,\n",
       "          7.89431110e-02,  -4.26084548e-02,   1.26199017e-03,\n",
       "         -2.85584293e-02,   1.85608137e-02,  -3.84156406e-02,\n",
       "         -1.40221771e-02,   3.70795205e-02,  -1.46542517e-02,\n",
       "          7.70752144e-04,   5.86610436e-02,  -7.63351854e-04,\n",
       "         -1.68452784e-02,   2.66266894e-02,  -1.68836247e-02,\n",
       "          5.08363582e-02,  -4.27919179e-02,  -3.17574702e-02,\n",
       "         -2.42167953e-02,   1.39287626e-03,  -3.19306999e-02,\n",
       "         -2.87802592e-02,   3.74210812e-02,  -7.41682723e-02,\n",
       "          3.58848907e-02,   5.89612871e-02,   1.53310166e-03,\n",
       "          1.09506296e-02,   2.98997574e-02,   1.21057061e-02,\n",
       "          6.51224097e-03,   1.48214269e-02,   4.69322912e-02,\n",
       "          6.11330802e-03,   6.06917217e-02,   3.63544337e-02,\n",
       "          2.88751200e-02,   2.59297080e-02,  -2.20650025e-02,\n",
       "         -3.40612121e-02,  -1.85608231e-02,   3.85210328e-02,\n",
       "         -1.83538310e-02,   3.71472002e-03,   3.00547481e-02,\n",
       "          4.36530188e-02,  -2.87484936e-02,  -2.29318570e-02,\n",
       "         -2.62520388e-02,  -1.50851095e-02,   7.49564730e-03,\n",
       "         -3.45489457e-02,   9.66236442e-02,   3.93322892e-02,\n",
       "          3.50337774e-02,   3.14989202e-02,  -1.42861884e-02,\n",
       "          2.58839782e-02,  -2.72383206e-02,   4.74840961e-03,\n",
       "         -2.42390879e-03,  -1.32267037e-02,  -1.76340565e-02,\n",
       "          5.61658666e-02,  -6.78011775e-03,  -1.14199221e-02,\n",
       "          9.23215970e-03,  -1.14899175e-02,   1.00167785e-02,\n",
       "         -1.32602351e-02,   5.74568287e-02,   2.67097203e-04,\n",
       "         -3.97468656e-02,   7.81075284e-02,  -1.82122476e-02,\n",
       "          6.96757482e-03,   2.95715909e-02,  -2.54706247e-03,\n",
       "          1.28012095e-02,  -1.36996433e-02,  -2.18698010e-02,\n",
       "         -4.73698936e-02,   6.47551417e-02,   3.23011051e-03,\n",
       "          2.94916909e-02,  -3.00764404e-02,  -2.15504062e-03,\n",
       "         -2.12873593e-02,  -4.45130691e-02,  -9.33228817e-04,\n",
       "          3.10889222e-02,  -1.42237544e-02,   2.70470940e-02,\n",
       "          4.54447679e-02,  -7.71249831e-02,   4.36164588e-02,\n",
       "          6.58829231e-03,  -1.00163824e-03,   9.16622113e-03,\n",
       "          3.29239443e-02,  -3.92812490e-02,  -1.08609488e-02,\n",
       "          2.05424074e-02,  -6.51297020e-03,   3.84037266e-03,\n",
       "          4.55738753e-02,  -3.06855445e-03,   1.17809750e-01,\n",
       "          1.70263294e-02,  -1.47664230e-02,  -1.23552652e-02,\n",
       "         -1.69543903e-02,  -1.85993947e-02,   2.46905535e-02,\n",
       "          1.76202517e-03,  -1.36419479e-03,   8.46729055e-02,\n",
       "          3.14351991e-02,   2.64694672e-02,  -6.25795498e-03,\n",
       "          3.52484100e-02,   2.06572004e-02,   4.28606430e-03,\n",
       "          3.74128968e-02,   2.39515547e-02,   6.55349195e-02,\n",
       "         -4.84793819e-02,  -1.18637541e-02,   1.16433520e-02,\n",
       "         -1.31399119e-02,   3.79514098e-02,  -1.27975754e-02,\n",
       "          3.30914930e-02,  -1.04515916e-02,   1.63469855e-02,\n",
       "          3.66502553e-02,   1.31451692e-02,   2.44679730e-02,\n",
       "         -3.33586708e-02,  -1.01013631e-02,  -1.56274550e-02,\n",
       "         -2.21503247e-03,  -1.27438186e-02,  -1.73013806e-02,\n",
       "         -2.06164457e-02,  -2.66294759e-02,   1.98878301e-03,\n",
       "          7.66848102e-02,   4.59365472e-02,  -9.29203443e-03,\n",
       "          1.52709819e-02,   2.49866173e-02,  -4.95067146e-03,\n",
       "         -5.09099402e-02,  -2.98558511e-02,  -2.49496400e-02,\n",
       "         -3.12171932e-02,   4.72317301e-02,  -7.98084140e-02,\n",
       "          1.15825422e-03,  -9.31325927e-03,  -2.56393757e-02,\n",
       "          4.72740532e-04,   1.64643526e-02,   6.98751360e-02,\n",
       "         -1.80099718e-02,   3.52173224e-02,  -1.27235043e-03,\n",
       "          5.13890907e-02,  -1.46160666e-02,  -2.00076979e-02,\n",
       "         -4.72740177e-03,  -1.95977632e-02,   1.40860323e-02,\n",
       "         -8.75373371e-03,  -2.94095054e-02,  -2.60029603e-02,\n",
       "          7.15073338e-03,   3.36883739e-02,   2.36161016e-02,\n",
       "         -1.33039774e-02,   8.98847133e-02,   6.90659061e-02,\n",
       "         -4.89026979e-02,  -2.76317652e-02,  -2.40689293e-02,\n",
       "         -4.05288301e-02,  -4.20433208e-02,  -3.25052515e-02,\n",
       "          1.69766247e-02,   1.87109392e-02,   2.89447010e-02,\n",
       "         -1.13574062e-02,  -9.51513276e-03,  -4.23238473e-03,\n",
       "          2.60415338e-02,  -3.94544378e-02,  -4.06779647e-02,\n",
       "          5.16280346e-02,   1.41574955e-02,  -1.28869887e-03,\n",
       "          9.09394585e-03,  -4.27697413e-02,   8.73455312e-04,\n",
       "          4.83072177e-02,   3.82398665e-02,   2.50289403e-02,\n",
       "          4.07333933e-02,   1.66772828e-02,   2.35679355e-02,\n",
       "          1.86418388e-02,  -1.44369453e-02,   3.96421626e-02,\n",
       "          2.86753736e-02,   1.15825236e-02,  -4.67922054e-02,\n",
       "          7.35829696e-02,  -2.05899887e-02,  -3.69954892e-02,\n",
       "          4.73675244e-02,  -1.93746667e-02,  -1.03696249e-02,\n",
       "          1.05320225e-02,   1.52098667e-02,  -3.33480090e-02,\n",
       "          2.34743059e-02,   7.13532325e-03,   3.54939066e-02,\n",
       "          1.13200452e-02,   3.84740941e-02,   5.11391461e-02,\n",
       "         -1.01897446e-02,   7.39773214e-02,   2.87939925e-02,\n",
       "         -2.85029248e-03,  -5.11518680e-03,   3.79209593e-02,\n",
       "         -4.02631462e-02,   5.47668803e-03,  -2.91517768e-02,\n",
       "         -6.15740903e-02,   4.60556597e-02,   3.38848755e-02,\n",
       "          8.32626969e-03,  -3.22307423e-02,   2.43360046e-02,\n",
       "         -1.54625094e-02,   5.89487562e-03,  -3.51769626e-02,\n",
       "         -5.04933149e-02,   9.33489949e-03,   4.37235497e-02,\n",
       "          3.29803042e-02,  -8.02346412e-03,  -1.72304865e-02,\n",
       "         -2.16793641e-03,  -6.24877550e-02,   2.27315854e-02,\n",
       "          9.28698666e-03,   2.01811045e-02,   5.43885631e-03,\n",
       "          1.32587086e-02,  -3.26470174e-02,  -2.90333461e-02,\n",
       "         -4.62385230e-02,   4.52813273e-03,   8.78430679e-02,\n",
       "         -4.86872643e-02,   3.03093176e-02,   1.71345342e-02,\n",
       "          3.38037983e-02,  -4.67120484e-02,  -2.96035204e-02,\n",
       "          1.81350540e-02,  -1.14152031e-02,  -1.41720464e-02,\n",
       "         -9.55300685e-03,  -9.50526446e-03,   2.20257565e-02,\n",
       "          6.21057190e-02,   1.13560585e-02,  -5.25947325e-02,\n",
       "          3.72472219e-03,   8.29931125e-02,  -2.35014386e-03,\n",
       "          3.57552767e-02,   3.08507252e-02,  -1.21489307e-02,\n",
       "         -3.58764827e-02,  -2.94232625e-03,  -8.31648894e-03,\n",
       "          8.83432198e-03,  -6.64899945e-02,   8.46750066e-02,\n",
       "          2.18234421e-03,   5.30938953e-02,  -6.93253335e-03,\n",
       "          1.23073645e-02,   3.58532034e-02,  -2.67346743e-02,\n",
       "         -2.60877213e-03,   2.15167403e-02,  -2.81687677e-02,\n",
       "         -3.25698890e-02,   7.20792543e-03,   4.02875766e-02,\n",
       "         -1.30603854e-02,   7.93998502e-03,   3.89960781e-02,\n",
       "         -1.95690338e-02,  -3.98127511e-02,   3.91253605e-02,\n",
       "          3.20873447e-02,   8.92216060e-03,   1.50283994e-02,\n",
       "          3.48547548e-02,   2.29877140e-02,  -5.44127114e-02,\n",
       "          3.14817429e-02,   3.15305851e-02,   4.69873799e-03,\n",
       "         -3.61290351e-02,  -3.73173691e-02,  -6.93712803e-03,\n",
       "         -1.50681436e-02,  -1.80945434e-02,  -4.89919893e-02,\n",
       "          8.71872529e-03,   1.94437206e-02,   2.71334928e-02,\n",
       "          2.73083802e-02,  -1.86861097e-03,   1.74416006e-01,\n",
       "         -2.81959511e-02,  -1.66592468e-02,  -4.75024665e-03,\n",
       "          2.03100815e-02,   4.13314514e-02,  -2.23103184e-02,\n",
       "          7.19323382e-02,   5.81244268e-02,  -2.42418274e-02,\n",
       "         -2.32312661e-02,  -1.58592686e-02,  -4.58153430e-03,\n",
       "         -5.07540479e-02,   1.24100680e-02,   4.15807078e-03,\n",
       "          4.19175662e-02,  -5.75378956e-03,   3.49076055e-02,\n",
       "          2.31968751e-03,   1.26333684e-02,   6.03156257e-03,\n",
       "          3.62183116e-02,   8.65926296e-02,  -1.33284219e-02,\n",
       "          5.51810972e-02,   1.73008516e-02,  -1.15235569e-02,\n",
       "         -1.31300325e-02,  -1.79450382e-02,  -2.13622469e-02,\n",
       "         -1.20589826e-02,   7.56988535e-03,  -4.67367023e-02,\n",
       "          7.46641904e-02,   1.39879048e-01,  -1.90993641e-02,\n",
       "         -2.22666953e-02,   2.08672043e-02,  -1.60657521e-02,\n",
       "         -5.25640175e-02,  -1.14105390e-02,   2.41940841e-02,\n",
       "          3.05098984e-02,   7.70881947e-04,  -2.04407554e-02,\n",
       "          2.50729057e-03,  -1.24954451e-02,   5.60879782e-02,\n",
       "         -2.06371248e-02,  -5.09949168e-03,  -2.82303256e-04,\n",
       "          5.58751710e-02,   7.97830820e-02,   1.95067506e-02,\n",
       "         -1.24041445e-03,   6.23228494e-03,   2.95552108e-02,\n",
       "         -5.54092824e-02,   8.55014473e-03,   2.90606618e-02,\n",
       "         -7.85251521e-03,  -1.45686110e-02,   1.31875016e-02,\n",
       "          5.86375929e-02,   1.20113145e-04,  -3.91473621e-03,\n",
       "          7.97172487e-02,  -3.87801863e-02,   5.72163500e-02,\n",
       "          1.55645041e-02,  -3.27076241e-02,   6.27580211e-02,\n",
       "         -2.85934079e-02,  -2.12214813e-02,  -2.04508994e-02,\n",
       "          2.09074840e-02,  -6.84832968e-03,  -1.76608600e-02,\n",
       "          5.27595244e-02,  -2.17687339e-02,   2.08002701e-02,\n",
       "         -3.56716178e-02,  -1.33875730e-02,  -2.76848068e-03,\n",
       "          8.36161524e-02,   3.96939082e-04,  -2.11417358e-02,\n",
       "          2.64491234e-02,   5.41472733e-02,  -3.21987197e-02,\n",
       "          2.47044731e-02,   2.01918241e-02,   2.34367028e-02,\n",
       "         -1.07326712e-02,  -2.13121828e-02,  -3.52485217e-02,\n",
       "          3.61530781e-02,  -3.44959423e-02,  -2.72001978e-02,\n",
       "          9.15382057e-03,   3.08457650e-02,  -6.85911849e-02,\n",
       "         -3.39807421e-02,   5.60745178e-03,  -2.16697576e-03,\n",
       "         -1.67352837e-02,   1.76708344e-02,   1.88477784e-02,\n",
       "         -3.63953635e-02,  -1.84046589e-02,  -6.57584146e-03,\n",
       "         -2.65173446e-02,  -1.63191464e-02,   5.20186760e-02,\n",
       "         -1.67522747e-02,   2.42467672e-02,   1.44151170e-02,\n",
       "          1.61480978e-02,  -2.21935660e-02,   4.61276434e-02,\n",
       "          1.62575562e-02,   8.59677233e-03,   3.74573469e-02,\n",
       "         -9.71601927e-04,  -2.98023466e-02,  -1.16397180e-02,\n",
       "         -2.10918207e-02,  -2.67091822e-02,   1.13453250e-02,\n",
       "          5.68717569e-02,  -2.61091329e-02,   2.17744149e-02,\n",
       "         -4.61025489e-03,   1.28431603e-01,  -3.16297971e-02,\n",
       "          3.53646725e-02,  -8.41070991e-03,  -1.74520668e-02,\n",
       "          4.71329615e-02,   1.01992171e-02,  -8.24889168e-03,\n",
       "         -3.35084740e-03,   3.80285531e-02,   1.19385496e-02,\n",
       "          1.96123663e-02,  -2.46740095e-02,   2.60386448e-02,\n",
       "          2.10518129e-02,  -3.33304587e-03,  -1.87435616e-02,\n",
       "         -2.46409960e-02,   4.45136987e-02,   5.71131380e-03,\n",
       "          5.72407339e-03,   5.40793827e-03,   3.29781212e-02,\n",
       "         -3.13520692e-02,  -1.64796617e-02,   7.50015154e-02,\n",
       "          1.91784520e-02,  -3.81065607e-02,   8.60592176e-04,\n",
       "         -1.94790941e-02,   1.14704454e-02,  -4.87466678e-02,\n",
       "          4.87419628e-02,   1.73392575e-02,  -2.11211145e-02,\n",
       "          1.94424074e-02,  -3.75583395e-02,   4.47350831e-05,\n",
       "          7.52777839e-03,   2.08556019e-02,  -5.42142913e-02,\n",
       "         -2.84213219e-02,  -3.42016853e-02,   3.43671031e-02,\n",
       "          1.42005477e-02,   3.56716141e-02,   6.63748458e-02,\n",
       "          6.71525113e-03,  -9.77362040e-03,   7.44613186e-02,\n",
       "          3.11339684e-02,   8.30056369e-02,  -2.39478834e-02,\n",
       "          2.79450100e-02,  -1.65757313e-02,  -2.63579991e-02,\n",
       "         -1.39045035e-02,  -1.19388504e-02,   2.79373042e-02,\n",
       "         -9.14731808e-03,   1.74556840e-02,  -1.12713557e-02,\n",
       "          1.44889811e-02,  -1.38128893e-02,   4.71434183e-02,\n",
       "         -3.70690487e-02,   3.66459899e-02,   1.20815011e-02,\n",
       "         -3.16715837e-02,  -2.71424409e-02,   8.62864032e-02,\n",
       "          4.62258272e-02,  -4.80836965e-02,  -5.85943386e-02,\n",
       "          3.40820774e-02,  -1.08154416e-02,   1.46407569e-02,\n",
       "         -3.96212414e-02,   4.93726246e-02,  -1.44755049e-02,\n",
       "          7.41437301e-02,  -2.47760508e-02,   5.00169676e-03,\n",
       "          2.05672868e-02,   5.20136673e-03,   4.00974229e-02,\n",
       "         -1.58992019e-02,  -2.41601914e-02,  -1.83650218e-02,\n",
       "         -1.31952995e-02,  -5.57747297e-02,   2.62816809e-02,\n",
       "          6.24007778e-03,   1.66156888e-02,  -1.38023840e-02,\n",
       "          1.64119080e-02,  -6.95682541e-02,  -1.02621997e-02,\n",
       "          1.79402623e-02,  -3.02977785e-02,  -3.95900657e-04,\n",
       "         -3.02875694e-02,   2.40179449e-02,   1.49656022e-02,\n",
       "          2.42724624e-02,  -4.68889112e-03,  -3.87030877e-02,\n",
       "         -3.78552675e-02,   6.45404831e-02,  -1.56596247e-02,\n",
       "         -3.51682841e-03,   8.38600099e-02,   5.63564561e-02,\n",
       "         -1.54968416e-02,   4.64462601e-02,   1.11034540e-02,\n",
       "          2.03915909e-02,  -1.11276312e-02,  -1.55472709e-02,\n",
       "          1.71146188e-02,  -1.36880791e-02,   6.44256826e-03,\n",
       "         -1.10724643e-02,  -2.19133012e-02,  -1.51824346e-02,\n",
       "          2.42117960e-02,  -2.52791960e-02,   4.41334629e-03,\n",
       "         -1.71959084e-02,  -1.03887590e-02,   7.21928990e-03,\n",
       "         -3.32783908e-02,   4.93805110e-02,   7.71708461e-03,\n",
       "          1.06729404e-03,   6.42074198e-02,   4.62901928e-02,\n",
       "          5.27722836e-02,   3.14859226e-02,   6.25897199e-02,\n",
       "          4.52116169e-02,  -6.01202808e-03,   4.03626356e-03,\n",
       "          6.24801889e-02,   7.32267648e-02,  -2.03652214e-02,\n",
       "         -4.30065533e-03,  -2.60533765e-02,  -2.98321452e-02,\n",
       "          1.14682466e-02,   2.30249949e-02,   4.89346758e-02,\n",
       "         -1.66492595e-03,  -1.69695895e-02,  -9.90901235e-03,\n",
       "          4.01646160e-02,   7.92933330e-02,  -2.62722503e-02,\n",
       "         -2.36397404e-02,   1.41505478e-02,  -1.12576894e-02,\n",
       "          3.91970016e-02,   2.99513750e-02,  -7.48329936e-03,\n",
       "          9.80198234e-02,   3.03997025e-02,  -3.95029113e-02,\n",
       "          6.76430836e-02,   9.54191200e-03,  -6.18304051e-02,\n",
       "          3.82325356e-03,   2.25490686e-02,   2.76635289e-02,\n",
       "         -3.37986276e-02,   1.76778641e-02,   5.76260202e-02,\n",
       "         -1.89081568e-03,   2.20141616e-02,  -5.25453303e-04,\n",
       "          2.57069338e-02,  -4.13333951e-03,  -7.55871134e-03,\n",
       "         -1.07380645e-02,  -1.60692614e-02,  -2.60528326e-02,\n",
       "          1.23026948e-02,   2.42975894e-02,   2.67578266e-03,\n",
       "         -6.68531423e-03,   1.88658908e-02,  -1.68508030e-02,\n",
       "          2.62994301e-02,   8.28939527e-02,  -2.03318298e-02,\n",
       "          7.20560774e-02,  -9.94364731e-03,   6.61310479e-02,\n",
       "          1.03600612e-02,  -4.44466807e-03,  -3.60220484e-02,\n",
       "          1.68201476e-02,   2.22815201e-02,   7.12540746e-02,\n",
       "          4.67199124e-02,   1.31649161e-02,   4.78707850e-02,\n",
       "         -3.89929041e-02,   6.01911731e-02,  -2.67326124e-02,\n",
       "         -2.57526729e-02,   4.59865443e-02,   5.41546755e-02,\n",
       "         -3.22448909e-02,  -2.24448312e-02,   3.53670865e-02,\n",
       "         -2.96302475e-02,   2.79202964e-02,   4.66514565e-02,\n",
       "          4.37038466e-02,   2.18216348e-02,  -1.27550797e-03,\n",
       "          2.85225064e-02,   4.22852710e-02,   2.86334604e-02,\n",
       "          6.22251965e-02,  -2.92317127e-04,  -1.22709218e-02,\n",
       "         -1.48464516e-02,   4.89389524e-02,   5.01790317e-03,\n",
       "         -3.72848809e-02,  -5.25507564e-03,   1.20235151e-02,\n",
       "         -9.53653362e-03,   1.60124321e-02,  -3.39144282e-02,\n",
       "          2.27385089e-02,  -6.43097796e-03,   3.54509465e-02,\n",
       "         -2.86815632e-02,   5.30910976e-02,   5.68107516e-03,\n",
       "          1.22626470e-02,  -4.79661906e-03,  -9.56079178e-03,\n",
       "          2.42223367e-02,   1.77237317e-02,  -2.76643578e-02,\n",
       "          4.87303212e-02,   2.36605275e-02,   9.11024306e-03,\n",
       "         -7.80373206e-03,   1.18150096e-02,  -4.15625013e-02,\n",
       "         -1.30588273e-02], dtype=float32),\n",
       " array([[-0.1391661 , -0.03960711, -0.02461222, ...,  0.04625723,\n",
       "          0.05856692, -0.02136006],\n",
       "        [ 0.02650411, -0.01273851,  0.00527123, ...,  0.04978336,\n",
       "          0.05575935, -0.10089087],\n",
       "        [ 0.01925735,  0.04640406,  0.07750126, ..., -0.04129871,\n",
       "         -0.07249875, -0.06142598],\n",
       "        ..., \n",
       "        [-0.00543931,  0.0471224 ,  0.02652206, ...,  0.04936017,\n",
       "         -0.03053535, -0.00765801],\n",
       "        [-0.03415468,  0.07996432, -0.05842825, ...,  0.03924754,\n",
       "          0.007388  , -0.02003425],\n",
       "        [-0.25757274,  0.04168949,  0.09851207, ...,  0.1028308 ,\n",
       "          0.07672206,  0.04787768]], dtype=float32),\n",
       " array([-0.01352225,  0.02839706,  0.00743278, ...,  0.01673149,\n",
       "        -0.00013039,  0.00152872], dtype=float32),\n",
       " array([[-0.03578703, -0.06647177,  0.06362619, ...,  0.01654316,\n",
       "          0.11676235, -0.04958162],\n",
       "        [ 0.02030001, -0.08182351, -0.10143359, ..., -0.06231432,\n",
       "         -0.04995969, -0.1656553 ],\n",
       "        [ 0.07557094,  0.0391967 , -0.17469439, ..., -0.08723933,\n",
       "         -0.00664802, -0.0080781 ],\n",
       "        ..., \n",
       "        [ 0.06284222, -0.12956876, -0.11709286, ...,  0.01950661,\n",
       "          0.06873628, -0.02702746],\n",
       "        [-0.01353936, -0.09530088, -0.037851  , ...,  0.0792078 ,\n",
       "          0.08130335, -0.05305538],\n",
       "        [ 0.07167793,  0.07935656,  0.06003539, ..., -0.01888037,\n",
       "         -0.08836993, -0.02954428]], dtype=float32),\n",
       " array([ 0.00303128,  0.00615068,  0.00376072, -0.03393397, -0.01589919,\n",
       "        -0.00363855, -0.00575883, -0.02493894,  0.03608733,  0.00772173,\n",
       "         0.02383636,  0.02488045, -0.01521261, -0.00316835,  0.0059477 ,\n",
       "         0.02948928, -0.00891017,  0.02627157, -0.01119281, -0.00010998,\n",
       "         0.0022401 ,  0.00775426,  0.00242094, -0.00383201, -0.00132672,\n",
       "         0.01911702,  0.04253931,  0.01699994,  0.00182906,  0.00389904,\n",
       "        -0.0210629 ,  0.00023327,  0.03138731, -0.00357006,  0.0373355 ,\n",
       "        -0.00942211, -0.03651028, -0.00637654, -0.00034584,  0.02026255,\n",
       "        -0.02767644, -0.00223081,  0.00960574, -0.03594877, -0.00634784,\n",
       "        -0.051856  , -0.00116205], dtype=float32)]"
      ]
     },
     "execution_count": 28,
     "metadata": {},
     "output_type": "execute_result"
    }
   ],
   "source": [
    "loaded_model.get_weights()"
   ]
  },
  {
   "cell_type": "markdown",
   "metadata": {},
   "source": [
    "### Testing model"
   ]
  },
  {
   "cell_type": "code",
   "execution_count": 29,
   "metadata": {},
   "outputs": [
    {
     "name": "stdout",
     "output_type": "stream",
     "text": [
      "accuracy on test dataset :  85.3085106383 %\n"
     ]
    }
   ],
   "source": [
    "op = model.predict(xtest.values)\n",
    "op_char = [mapping[np.array(op[i]).argmax(axis=0)] for i in range(len(op))]\n",
    "ytest_char = [mapping[i] for i in ytest]\n",
    "from sklearn.metrics import accuracy_score\n",
    "print(\"accuracy on test dataset : \",accuracy_score(ytest_char,op_char)*100,\"%\")"
   ]
  },
  {
   "cell_type": "code",
   "execution_count": 30,
   "metadata": {},
   "outputs": [
    {
     "name": "stdout",
     "output_type": "stream",
     "text": [
      "accuracy on test dataset :  85.3085106383 %\n"
     ]
    }
   ],
   "source": [
    "op = loaded_model.predict(xtest.values)\n",
    "op_char = [mapping[np.array(op[i]).argmax(axis=0)] for i in range(len(op))]\n",
    "ytest_char = [mapping[i] for i in ytest]\n",
    "from sklearn.metrics import accuracy_score\n",
    "print(\"accuracy on test dataset : \",accuracy_score(ytest_char,op_char)*100,\"%\")"
   ]
  },
  {
   "cell_type": "code",
   "execution_count": 93,
   "metadata": {},
   "outputs": [
    {
     "data": {
      "text/plain": [
       "array([[ 0.,  0.,  0., ...,  0.,  0.,  0.],\n",
       "       [ 0.,  0.,  0., ...,  0.,  0.,  0.],\n",
       "       [ 0.,  0.,  0., ...,  0.,  0.,  0.],\n",
       "       ..., \n",
       "       [ 0.,  0.,  0., ...,  0.,  0.,  0.],\n",
       "       [ 0.,  0.,  0., ...,  0.,  0.,  0.],\n",
       "       [ 0.,  0.,  0., ...,  0.,  0.,  0.]])"
      ]
     },
     "execution_count": 93,
     "metadata": {},
     "output_type": "execute_result"
    }
   ],
   "source": [
    "xtest.values"
   ]
  },
  {
   "cell_type": "code",
   "execution_count": 49,
   "metadata": {
    "collapsed": true
   },
   "outputs": [],
   "source": [
    "#saving our ouput array and actual array to a file named result\n",
    "file_ = open('result.txt','w')\n",
    "file_.write(\"Actual Values :--> \\n\")\n",
    "file_.write(\"[\")\n",
    "for i in ytest_char:\n",
    "    file_.write(i+\", \")\n",
    "file_.write(\"]\\n\")\n",
    "file_.write(\"Predicted Values : \\n\")\n",
    "file_.write(\"[\")\n",
    "for i in op_char:\n",
    "    file_.write(i+\", \")\n",
    "file_.write(\"]\\n\")\n",
    "file_.write(\"Accuracy : \"+str(accuracy_score(ytest_char,op_char)*100)+\"%\")\n",
    "file_.close()"
   ]
  },
  {
   "cell_type": "markdown",
   "metadata": {},
   "source": [
    "### Testing On custom Image input"
   ]
  },
  {
   "cell_type": "code",
   "execution_count": 104,
   "metadata": {},
   "outputs": [
    {
     "data": {
      "text/plain": [
       "(112800, 784)"
      ]
     },
     "execution_count": 104,
     "metadata": {},
     "output_type": "execute_result"
    }
   ],
   "source": [
    "xtrain.shape"
   ]
  },
  {
   "cell_type": "code",
   "execution_count": 181,
   "metadata": {},
   "outputs": [
    {
     "name": "stdout",
     "output_type": "stream",
     "text": [
      "testing for this imag : ['J_13.png', 'Thumbs.db']\n",
      "19\n"
     ]
    },
    {
     "data": {
      "text/plain": [
       "'J'"
      ]
     },
     "execution_count": 181,
     "metadata": {},
     "output_type": "execute_result"
    }
   ],
   "source": [
    "import os\n",
    "name_ = os.listdir(\"testing\")\n",
    "print(\"testing for this imag :\",name_)\n",
    "test_im = Image.open(\"testing/\"+name_[0])\n",
    "test_im_arr = np.array(test_im)\n",
    "test_im_arr = np.transpose(test_im_arr)\n",
    "temp_im_ = Image.fromarray(test_im_arr)\n",
    "test_im_arr = test_im_arr.astype('float')/255.0\n",
    "test_im_arr = test_im_arr.reshape((28*28))\n",
    "test_im_arr = np.atleast_2d(test_im_arr)\n",
    "#mapping[np.array(model.predict([test_im_arr])[0]).argmax(axis=0)]\n",
    "opp = model.predict(test_im_arr)\n",
    "print(np.array(opp[0]).argmax(axis=0))\n",
    "mapping[np.array(opp[0]).argmax(axis=0)]"
   ]
  },
  {
   "cell_type": "code",
   "execution_count": 185,
   "metadata": {},
   "outputs": [
    {
     "data": {
      "image/png": "[encoded data removed]",
      "text/plain": [
       "<PIL.Image.Image image mode=L size=200x200 at 0xA7D00CF518>"
      ]
     },
     "execution_count": 185,
     "metadata": {},
     "output_type": "execute_result"
    }
   ],
   "source": [
    "temp__ =Image.fromarray((test_im_arr.reshape((28,28))*255).astype('uint8').T)\n",
    "temp__.resize((200,200))"
   ]
  },
  {
   "cell_type": "markdown",
   "metadata": {},
   "source": [
    "### Confusion Matrix"
   ]
  },
  {
   "cell_type": "code",
   "execution_count": 144,
   "metadata": {},
   "outputs": [
    {
     "data": {
      "text/plain": [
       "(18800, 18800)"
      ]
     },
     "execution_count": 144,
     "metadata": {},
     "output_type": "execute_result"
    }
   ],
   "source": [
    "len(ytest_char),len(op_char)"
   ]
  },
  {
   "cell_type": "code",
   "execution_count": 145,
   "metadata": {
    "collapsed": true
   },
   "outputs": [],
   "source": [
    "# Saving Result To html file table for better representation\n",
    "pd.crosstab([ytest_char],[op_char],rownames=['True'],colnames=['predicted'],margins=True).to_html(\"Confusion Matrix.html\")"
   ]
  }
 ],
 "metadata": {
  "kernelspec": {
   "display_name": "Python 3",
   "language": "python",
   "name": "python3"
  },
  "language_info": {
   "codemirror_mode": {
    "name": "ipython",
    "version": 3
   },
   "file_extension": ".py",
   "mimetype": "text/x-python",
   "name": "python",
   "nbconvert_exporter": "python",
   "pygments_lexer": "ipython3",
   "version": "3.5.2"
  }
 },
 "nbformat": 4,
 "nbformat_minor": 2
}
